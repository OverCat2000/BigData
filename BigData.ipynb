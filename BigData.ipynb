{
  "nbformat": 4,
  "nbformat_minor": 0,
  "metadata": {
    "colab": {
      "provenance": [],
      "authorship_tag": "ABX9TyMDzn9xJl73wd932NzAuhr6",
      "include_colab_link": true
    },
    "kernelspec": {
      "name": "ir",
      "display_name": "R"
    },
    "language_info": {
      "name": "R"
    }
  },
  "cells": [
    {
      "cell_type": "markdown",
      "metadata": {
        "id": "view-in-github",
        "colab_type": "text"
      },
      "source": [
        "<a href=\"https://colab.research.google.com/github/OverCat2000/BigData/blob/main/BigData.ipynb\" target=\"_parent\"><img src=\"https://colab.research.google.com/assets/colab-badge.svg\" alt=\"Open In Colab\"/></a>"
      ]
    },
    {
      "cell_type": "code",
      "source": [
        "packages = c(\"sparklyr\", \"tidyverse\", \"httr\", \"jsonlite\", \"arrow\")\n",
        "\n",
        "package.check <- lapply(\n",
        "  packages,\n",
        "  FUN = function(x) {\n",
        "    if (!require(x, character.only = TRUE)) {\n",
        "      install.packages(x, dependencies = TRUE)\n",
        "      library(x, character.only = TRUE)\n",
        "    }\n",
        "  }\n",
        ")"
      ],
      "metadata": {
        "colab": {
          "base_uri": "https://localhost:8080/"
        },
        "id": "tWYFPLGCkRn5",
        "outputId": "dc1da478-7222-49fc-c1fc-f269c0329a0c"
      },
      "execution_count": 101,
      "outputs": [
        {
          "output_type": "stream",
          "name": "stderr",
          "text": [
            "Loading required package: arrow\n",
            "\n",
            "\n",
            "Attaching package: ‘arrow’\n",
            "\n",
            "\n",
            "The following object is masked from ‘package:lubridate’:\n",
            "\n",
            "    duration\n",
            "\n",
            "\n",
            "The following object is masked from ‘package:utils’:\n",
            "\n",
            "    timestamp\n",
            "\n",
            "\n"
          ]
        }
      ]
    },
    {
      "cell_type": "code",
      "source": [
        "spark_install(version = 3.5)"
      ],
      "metadata": {
        "id": "w124qGHbMO1_"
      },
      "execution_count": 21,
      "outputs": []
    },
    {
      "cell_type": "code",
      "source": [
        "sc = spark_connect(master=\"local\")"
      ],
      "metadata": {
        "id": "2Ksvf5eSMO-C"
      },
      "execution_count": 22,
      "outputs": []
    },
    {
      "cell_type": "code",
      "source": [
        "api_endpoint = \"https://data.cityofnewyork.us/resource/2upf-qytp.json?\"\n",
        "limit <- 1000  # Number of rows per request\n",
        "offset <- 0     # Initial offset\n",
        "\n",
        "repeat {\n",
        "  # Construct URL with current offset\n",
        "  url <- modify_url(api_endpoint, query = list(\"$limit\" = limit, \"$offset\" = offset))\n",
        "\n",
        "  # Make the request\n",
        "  response <- GET(url)\n",
        "\n",
        "  if (http_error(response)) {\n",
        "    stop(\"HTTP request failed: \", httr::http_status(response)$reason)\n",
        "  }\n",
        "\n",
        "  data <- as_data_frame(fromJSON(content(response, \"text\")))\n",
        "\n",
        "  if (offset != 0) {\n",
        "    all_data <- bind_rows(all_data, data)\n",
        "  } else {\n",
        "    all_data = data\n",
        "  }\n",
        "\n",
        "  offset <- offset + limit\n",
        "\n",
        "  if (dim(all_data)[1] >= 50000) {\n",
        "    break  # Exit loop if less than 'limit' rows were returned\n",
        "  }\n",
        "}"
      ],
      "metadata": {
        "id": "GmvqNOwIT0PQ"
      },
      "execution_count": 94,
      "outputs": []
    },
    {
      "cell_type": "code",
      "source": [
        "nyc_tbl = copy_to(sc, all_data, \"nyc_taxi\", overwrite=T)"
      ],
      "metadata": {
        "id": "AjCVrcxbfzIA"
      },
      "execution_count": 105,
      "outputs": []
    },
    {
      "cell_type": "code",
      "source": [
        "nyc_tbl"
      ],
      "metadata": {
        "colab": {
          "base_uri": "https://localhost:8080/",
          "height": 406
        },
        "id": "V13n1xnFf93v",
        "outputId": "797274e7-134b-4897-95b4-8492ad69e4e9"
      },
      "execution_count": 106,
      "outputs": [
        {
          "output_type": "stream",
          "name": "stderr",
          "text": [
            "Warning message in arrow_collect(object, ...):\n",
            "“NAs introduced by coercion to integer range”\n"
          ]
        },
        {
          "output_type": "display_data",
          "data": {
            "text/plain": [
              "\u001b[90m# Source:   table<`nyc_taxi`> [?? x 18]\u001b[39m\n",
              "\u001b[90m# Database: spark_connection\u001b[39m\n",
              "   vendorid tpep_pickup_datetime    tpep_dropoff_datetime   passenger_count\n",
              "   \u001b[3m\u001b[90m<chr>\u001b[39m\u001b[23m    \u001b[3m\u001b[90m<chr>\u001b[39m\u001b[23m                   \u001b[3m\u001b[90m<chr>\u001b[39m\u001b[23m                   \u001b[3m\u001b[90m<chr>\u001b[39m\u001b[23m          \n",
              "\u001b[90m 1\u001b[39m 1        2019-12-04T09:53:38.000 2019-12-04T10:24:54.000 1              \n",
              "\u001b[90m 2\u001b[39m 1        2019-12-04T09:38:13.000 2019-12-04T09:59:02.000 1              \n",
              "\u001b[90m 3\u001b[39m 2        2019-12-04T09:20:42.000 2019-12-04T09:51:10.000 3              \n",
              "\u001b[90m 4\u001b[39m 2        2019-12-04T09:56:30.000 2019-12-04T10:01:00.000 3              \n",
              "\u001b[90m 5\u001b[39m 2        2019-12-04T09:01:49.000 2019-12-04T09:38:04.000 1              \n",
              "\u001b[90m 6\u001b[39m 2        2019-12-04T09:39:16.000 2019-12-04T09:51:12.000 1              \n",
              "\u001b[90m 7\u001b[39m 1        2019-12-04T09:06:51.000 2019-12-04T09:17:47.000 1              \n",
              "\u001b[90m 8\u001b[39m 1        2019-12-04T09:31:04.000 2019-12-04T09:42:49.000 1              \n",
              "\u001b[90m 9\u001b[39m 1        2019-12-04T09:46:01.000 2019-12-04T09:56:22.000 1              \n",
              "\u001b[90m10\u001b[39m 2        2019-12-04T09:12:41.000 2019-12-04T10:00:18.000 1              \n",
              "\u001b[90m# ℹ more rows\u001b[39m\n",
              "\u001b[90m# ℹ 14 more variables: trip_distance <chr>, ratecodeid <chr>,\u001b[39m\n",
              "\u001b[90m#   store_and_fwd_flag <chr>, pulocationid <chr>, dolocationid <chr>,\u001b[39m\n",
              "\u001b[90m#   payment_type <chr>, fare_amount <chr>, extra <chr>, mta_tax <chr>,\u001b[39m\n",
              "\u001b[90m#   tip_amount <chr>, tolls_amount <chr>, improvement_surcharge <chr>,\u001b[39m\n",
              "\u001b[90m#   total_amount <chr>, congestion_surcharge <chr>\u001b[39m"
            ]
          },
          "metadata": {}
        }
      ]
    },
    {
      "cell_type": "code",
      "source": [],
      "metadata": {
        "id": "gNUe0evilH_9"
      },
      "execution_count": null,
      "outputs": []
    }
  ]
}