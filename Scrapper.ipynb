{
 "cells": [
  {
   "cell_type": "code",
   "execution_count": 1,
   "metadata": {},
   "outputs": [],
   "source": [
    "from selenium import webdriver\n",
    "from selenium.webdriver.common.keys import Keys\n",
    "from selenium.webdriver.common.by import By\n",
    "from selenium.webdriver.chrome.options import Options\n",
    "from selenium.webdriver.support.ui import WebDriverWait\n",
    "from selenium.webdriver.support import expected_conditions as EC\n",
    "from selenium.webdriver.chrome.service import Service\n",
    "\n",
    "import requests\n",
    "import time\n",
    "import os"
   ]
  },
  {
   "cell_type": "code",
   "execution_count": 72,
   "metadata": {},
   "outputs": [],
   "source": [
    "url = \"https://atlas.ecdc.europa.eu/public/index.aspx?Dataset=27&HealthTopic=31\""
   ]
  },
  {
   "cell_type": "code",
   "execution_count": 73,
   "metadata": {},
   "outputs": [],
   "source": [
    "year = 2008\n",
    "download_directory = r\"C:\\Users\\malis\\code\\BigData\\data\"\n",
    "original_filename = \"ECDC_surveillance_data_Leptospirosis.csv\" # Replace with the actual file name\n",
    "new_filename = f\"{year}.csv\"  # The new name you want to give to the file\n",
    "\n",
    "# Construct full file paths\n",
    "original_file_path = os.path.join(download_directory, original_filename)\n",
    "new_file_path = os.path.join(download_directory, new_filename)\n"
   ]
  },
  {
   "cell_type": "code",
   "execution_count": 74,
   "metadata": {},
   "outputs": [],
   "source": [
    "chrome_options = Options()\n",
    "chrome_options.add_experimental_option(\"prefs\", {\n",
    "  \"download.default_directory\": download_directory,\n",
    "  \"download.prompt_for_download\": False,\n",
    "  \"download.directory_upgrade\": True,\n",
    "  \"safebrowsing.enabled\": True\n",
    "})\n",
    "chrome_options.add_argument(\"--headless\")"
   ]
  },
  {
   "cell_type": "code",
   "execution_count": 75,
   "metadata": {},
   "outputs": [],
   "source": [
    "driver = webdriver.Chrome(options=chrome_options, service=Service(\"C:/Users/malis/code/BigData/chromedriver-win64/chromedriver.exe\"))"
   ]
  },
  {
   "cell_type": "code",
   "execution_count": 76,
   "metadata": {},
   "outputs": [],
   "source": [
    "driver.get(url)\n",
    "# wait for one minute until the page is loaded using time library\n",
    "time.sleep(30)"
   ]
  },
  {
   "cell_type": "code",
   "execution_count": 77,
   "metadata": {},
   "outputs": [],
   "source": [
    "button = driver.find_element(By.XPATH, \"//button[@title='Time period']\")\n",
    "button.click()"
   ]
  },
  {
   "cell_type": "code",
   "execution_count": 78,
   "metadata": {},
   "outputs": [],
   "source": [
    "#time.sleep(5)\n",
    "label = driver.find_element(By.XPATH, f\"//label[@for='selectTimePeriod_{year}']\")\n",
    "label.click()"
   ]
  },
  {
   "cell_type": "code",
   "execution_count": 79,
   "metadata": {},
   "outputs": [],
   "source": [
    "time.sleep(5)\n",
    "export_button = driver.find_element(By.ID, \"ecdc-btn-export\")\n",
    "export_button.click()"
   ]
  },
  {
   "cell_type": "code",
   "execution_count": 80,
   "metadata": {},
   "outputs": [],
   "source": [
    "driver.find_element(By.ID, \"cckPostponeCookies\").click()"
   ]
  },
  {
   "cell_type": "code",
   "execution_count": 81,
   "metadata": {},
   "outputs": [],
   "source": [
    "time.sleep(5)\n",
    "radio_button = driver.find_element(By.ID, \"optionsRadios1\")\n",
    "radio_button.click()"
   ]
  },
  {
   "cell_type": "code",
   "execution_count": 82,
   "metadata": {},
   "outputs": [],
   "source": [
    "time.sleep(5)\n",
    "download_button = driver.find_element(By.ID, \"ecdc-btn-export-csv\")\n",
    "download_button.click()"
   ]
  },
  {
   "cell_type": "code",
   "execution_count": 83,
   "metadata": {},
   "outputs": [
    {
     "name": "stdout",
     "output_type": "stream",
     "text": [
      "File renamed to: C:\\Users\\malis\\code\\BigData\\data\\2007.csv\n"
     ]
    }
   ],
   "source": [
    "time.sleep(5)\n",
    "if os.path.exists(original_file_path):\n",
    "    os.rename(original_file_path, new_file_path)\n",
    "    print(f\"File renamed to: {new_file_path}\")\n",
    "else:\n",
    "    print(f\"File not found: {original_file_path}\")"
   ]
  },
  {
   "cell_type": "code",
   "execution_count": 84,
   "metadata": {},
   "outputs": [],
   "source": [
    "#C:\\Users\\malis\\code\\BigData\\data\\ECDC_surveillance_data_Leptospirosis.csv"
   ]
  },
  {
   "cell_type": "code",
   "execution_count": null,
   "metadata": {},
   "outputs": [],
   "source": []
  },
  {
   "cell_type": "code",
   "execution_count": null,
   "metadata": {},
   "outputs": [],
   "source": []
  },
  {
   "cell_type": "code",
   "execution_count": null,
   "metadata": {},
   "outputs": [],
   "source": []
  }
 ],
 "metadata": {
  "kernelspec": {
   "display_name": "tf",
   "language": "python",
   "name": "python3"
  },
  "language_info": {
   "codemirror_mode": {
    "name": "ipython",
    "version": 3
   },
   "file_extension": ".py",
   "mimetype": "text/x-python",
   "name": "python",
   "nbconvert_exporter": "python",
   "pygments_lexer": "ipython3",
   "version": "3.10.8"
  }
 },
 "nbformat": 4,
 "nbformat_minor": 2
}
